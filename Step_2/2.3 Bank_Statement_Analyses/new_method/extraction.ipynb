{
 "cells": [
  {
   "cell_type": "code",
   "execution_count": 1,
   "metadata": {},
   "outputs": [],
   "source": [
    "import cv2\n",
    "import numpy as np\n",
    "import pytesseract as tess\n",
    "tess.pytesseract.tesseract_cmd = r'C:\\Program Files\\Tesseract-OCR\\tesseract.exe'\n",
    "import matplotlib.pyplot as plt\n",
    "import pandas as pd\n",
    "from PIL import Image"
   ]
  },
  {
   "cell_type": "code",
   "execution_count": 54,
   "metadata": {},
   "outputs": [
    {
     "data": {
      "text/plain": [
       "[15, 24, 31, 33, 37, 40, 44, 47, 49, 52, 54, 59, 61, 66, 69]"
      ]
     },
     "execution_count": 54,
     "metadata": {},
     "output_type": "execute_result"
    }
   ],
   "source": [
    "def binarize_image(img):\n",
    "        #img = cv2.cvtColor(img, cv2.COLOR_BGR2GRAY)\n",
    "        #This adaptive method gave me trash results\n",
    "        #threshed = cv2.adaptiveThreshold(gray,255, cv2.ADAPTIVE_THRESH_MEAN_C,cv2.THRESH_BINARY,11,17)\n",
    "        t,threshed = cv2.threshold(img, 150, 150, cv2.THRESH_BINARY)\n",
    "        text1 = tess.image_to_data(threshed,output_type='data.frame')\n",
    "        text2 = tess.image_to_string(threshed)\n",
    "        #text = text1[text1.conf != -1]\n",
    "        return threshed\n",
    "def extract_data(img):\n",
    "    text = tess.image_to_string(img)\n",
    "    return text\n",
    "\n",
    "\n",
    "#Binarize the image\n",
    "image0 = cv2.imread(\"combined1.png\")\n",
    "image0 = binarize_image(image0)\n",
    "\n",
    "#Get posting date\n",
    "cropped_image_posting = image0[0:2050, 0:180]\n",
    "posting_data = extract_data(cropped_image_posting)\n",
    "posting_arr = posting_data.split(\"\\n\")\n",
    "posting_arr.pop(0)\n",
    "posting_arr.pop(0)\n",
    "posting_arr.pop(len(posting_arr)-1)\n",
    "\n",
    "counter = 0\n",
    "new_line_position = []\n",
    "\n",
    "for x in posting_arr :\n",
    "    counter +=1\n",
    "    # find Posting Date\n",
    "    if x ==\"\" :\n",
    "        new_line_position.append(counter)\n",
    "\n",
    "new_line_position"
   ]
  },
  {
   "cell_type": "code",
   "execution_count": null,
   "metadata": {},
   "outputs": [],
   "source": []
  }
 ],
 "metadata": {
  "interpreter": {
   "hash": "a65086c3c9f076f48bef7927f4f794e49f110bea0d8d4a0dbfc033a1f9d78305"
  },
  "kernelspec": {
   "display_name": "Python 3.9.7 64-bit",
   "language": "python",
   "name": "python3"
  },
  "language_info": {
   "codemirror_mode": {
    "name": "ipython",
    "version": 3
   },
   "file_extension": ".py",
   "mimetype": "text/x-python",
   "name": "python",
   "nbconvert_exporter": "python",
   "pygments_lexer": "ipython3",
   "version": "3.9.7"
  },
  "orig_nbformat": 4
 },
 "nbformat": 4,
 "nbformat_minor": 2
}
