{
 "cells": [
  {
   "cell_type": "markdown",
   "metadata": {},
   "source": [
    "### __1.Importing Libraries__"
   ]
  },
  {
   "cell_type": "code",
   "execution_count": 97,
   "metadata": {},
   "outputs": [],
   "source": [
    "#importing the libraries\n",
    "import cv2\n",
    "import numpy as np\n",
    "import pytesseract as tess\n",
    "tess.pytesseract.tesseract_cmd = r'C:\\Program Files\\Tesseract-OCR\\tesseract.exe'\n",
    "import matplotlib.pyplot as plt\n",
    "import pandas as pd\n",
    "from PIL import Image"
   ]
  },
  {
   "cell_type": "markdown",
   "metadata": {},
   "source": [
    "### __2. Function Creation__"
   ]
  },
  {
   "cell_type": "code",
   "execution_count": 98,
   "metadata": {},
   "outputs": [],
   "source": [
    "#create a function that wwill return a threshold image and the value \n",
    "def extract_data(img):\n",
    "    gray = cv2.cvtColor(img, cv2.COLOR_BGR2GRAY)\n",
    "    threshed = cv2.adaptiveThreshold(gray,255, cv2.ADAPTIVE_THRESH_MEAN_C,cv2.THRESH_BINARY,11,17)\n",
    "    text1 = tess.image_to_data(threshed,output_type='data.frame')\n",
    "    text2 = tess.image_to_string(threshed)\n",
    "    text = text1[text1.conf != -1]\n",
    "    # lines = text.groupby('block_num')['text'].apply(list)\n",
    "    # conf = text.groupby(['block_num'])['conf'].mean()\n",
    "    return text2"
   ]
  },
  {
   "cell_type": "markdown",
   "metadata": {},
   "source": [
    "### __3.Implementing Function__"
   ]
  },
  {
   "cell_type": "code",
   "execution_count": 99,
   "metadata": {},
   "outputs": [],
   "source": [
    "# implement the function \n",
    "img = cv2.imread(\"cropped.png\")\n",
    "txt_value = extract_data(img)\n",
    "\n",
    "# split the string to array\n",
    "arrValue = txt_value.split(\"\\n\")\n"
   ]
  },
  {
   "cell_type": "code",
   "execution_count": 100,
   "metadata": {},
   "outputs": [
    {
     "data": {
      "text/plain": [
       "['Posting Date',\n",
       " '',\n",
       " '29/12/2020',\n",
       " '31/12/2020',\n",
       " '31/12/2020',\n",
       " '02/01/2021',\n",
       " '18/01/2021',\n",
       " '',\n",
       " '18/01/2021',\n",
       " '18/01/2021',\n",
       " '',\n",
       " '18/01/2021',\n",
       " '18/01/2021',\n",
       " '20/01/2021',\n",
       " '21/01/2021',\n",
       " '21/01/2021',\n",
       " '21/01/2021',\n",
       " '21/01/2021',\n",
       " '22/01/2021',\n",
       " '22/01/2021',\n",
       " '22/01/2021',\n",
       " '25/01/2021',\n",
       " '',\n",
       " '25/01/2021',\n",
       " '27/01/2021',\n",
       " '27/01/2021',\n",
       " '27/01/2021',\n",
       " '27/01/2021',\n",
       " '27/01/2021',\n",
       " '',\n",
       " '27/01/2021',\n",
       " '27/01/2021',\n",
       " '27/01/2021',\n",
       " '29/01/2021',\n",
       " '',\n",
       " '29/01/2021',\n",
       " '29/01/2021',\n",
       " '30/01/2021',\n",
       " '',\n",
       " '30/01/2021',\n",
       " '30/01/2021',\n",
       " '31/01/2021',\n",
       " '31/01/2021',\n",
       " '31/01/2021',\n",
       " '31/01/2021',\n",
       " '',\n",
       " 'Transaction',\n",
       " 'Date',\n",
       " '29/12/2020',\n",
       " '31/12/2020',\n",
       " '31/12/2020',\n",
       " '02/01/2021',\n",
       " '18/01/2021',\n",
       " '',\n",
       " '18/01/2021',\n",
       " '18/01/2021',\n",
       " '',\n",
       " '18/01/2021',\n",
       " '18/01/2021',\n",
       " '18/01/2021',\n",
       " '21/01/2021',\n",
       " '21/01/2021',\n",
       " '21/01/2021',\n",
       " '21/01/2021',\n",
       " '22/01/2021',\n",
       " '22/01/2021',\n",
       " '22/01/2021',\n",
       " '25/01/2021',\n",
       " '',\n",
       " '25/01/2021',\n",
       " '27/01/2021',\n",
       " '27/01/2021',\n",
       " '25/01/2021',\n",
       " '25/01/2021',\n",
       " '27/01/2021',\n",
       " '',\n",
       " '27/01/2021',\n",
       " '27/01/2021',\n",
       " '27/01/2021',\n",
       " '29/01/2021',\n",
       " '',\n",
       " '29/01/2021',\n",
       " '29/01/2021',\n",
       " '30/01/2021',\n",
       " '',\n",
       " '30/01/2021',\n",
       " '30/01/2021',\n",
       " '31/01/2021',\n",
       " '31/01/2021',\n",
       " '29/01/2021',\n",
       " '29/01/2021',\n",
       " '',\n",
       " 'Description',\n",
       " '',\n",
       " 'ATM Declined Withdrawal Fee',\n",
       " '',\n",
       " 'Interest Received',\n",
       " '',\n",
       " 'Monthly Account Admin Fee',\n",
       " '',\n",
       " 'Card Purchase Insufficient Funds Fee',\n",
       " '',\n",
       " 'Cash Deposit 00e3cash Dep Dnr Mam Dnr',\n",
       " 'Mamelodimamsmal 1',\n",
       " '',\n",
       " 'Cash Deposit Fee (Notes)',\n",
       " '',\n",
       " 'Cash Deposit 00e3cash Dep Dnr Mam Dnr',\n",
       " 'Mamelodimamsmal 1',\n",
       " '',\n",
       " 'Cash Deposit Fee (Notes)',\n",
       " '',\n",
       " 'SMS Notification Fee',\n",
       " '',\n",
       " 'Online purchase: Rain Bryanston (Card 5813)',\n",
       " 'Payment Received S Assegaai',\n",
       " '',\n",
       " 'Banking App Payment Hazel',\n",
       " '',\n",
       " 'Payment Fee',\n",
       " '',\n",
       " 'SMS Notification Fee',\n",
       " '',\n",
       " 'ATM Cash Withdrawal Mahube Ser2 Pretoria Gpza',\n",
       " 'ATM Cash Withdrawal Fee',\n",
       " '',\n",
       " 'SMS Notification Fee',\n",
       " '',\n",
       " 'Payment Received: Sassa Gp 78799177 Pension',\n",
       " '2199644075',\n",
       " '',\n",
       " 'SMS Notification Fee',\n",
       " '',\n",
       " 'Banking App Prepaid Purchase VODACOM',\n",
       " 'Prepaid Mobile Purchase Fee',\n",
       " '',\n",
       " 'Pick n Pay Pretoria (Card 5813)',\n",
       " '',\n",
       " 'McDonalds Gauteng (Card 5813)',\n",
       " '',\n",
       " 'ATM Cash Withdrawal Sparkatm Bp Mahube Valley',\n",
       " 'Mamelodi Gtza',\n",
       " '',\n",
       " 'ATM Cash Withdrawal Fee',\n",
       " '',\n",
       " 'Payment Received: Explore Transfer 2208481564',\n",
       " 'SMS Notification Fee',\n",
       " '',\n",
       " 'ATM Cash Withdrawal Sparkatm Bp Mahube Valley',\n",
       " 'Mamelodi Gtza',\n",
       " '',\n",
       " 'ATM Cash Withdrawal Fee',\n",
       " '',\n",
       " 'SMS Notification Fee',\n",
       " '',\n",
       " 'ATM Cash Withdrawal Sparkatm Bp Mahube Valley',\n",
       " 'Mamelodi Gtza',\n",
       " '',\n",
       " 'ATM Cash Withdrawal Fee',\n",
       " '',\n",
       " 'SMS Notification Fee',\n",
       " '',\n",
       " 'Banking App Prepaid Purchase VODACOM',\n",
       " 'Prepaid Mobile Purchase Fee',\n",
       " '',\n",
       " 'Woolworths Pretoria (Card 5813)',\n",
       " '',\n",
       " 'Pep Cell Mamelodi (Card 5813)',\n",
       " '',\n",
       " 'Money In (R)',\n",
       " '',\n",
       " '0.23',\n",
       " '',\n",
       " '440.00',\n",
       " '',\n",
       " '50.00',\n",
       " '',\n",
       " '300.00',\n",
       " '',\n",
       " '350.00',\n",
       " '',\n",
       " '4950.00',\n",
       " '',\n",
       " 'Money Out (R}',\n",
       " '-7.00',\n",
       " '',\n",
       " '-5.00',\n",
       " '-0.40',\n",
       " '',\n",
       " '5.28',\n",
       " '',\n",
       " '-0.60',\n",
       " '-1.20',\n",
       " '-479.00',\n",
       " '',\n",
       " '-250.00',\n",
       " '-1.00',\n",
       " '-0.80',\n",
       " '',\n",
       " '-70.00',\n",
       " '-9.00',\n",
       " '-0.40',\n",
       " '',\n",
       " '-1.20',\n",
       " '-12.00',\n",
       " '-0.50',\n",
       " '-119.98',\n",
       " '-133.80',\n",
       " '-50.00',\n",
       " '',\n",
       " '-8.00',\n",
       " '',\n",
       " '-0.80',\n",
       " '-50.00',\n",
       " '',\n",
       " '-8.00',\n",
       " '-1.60',\n",
       " '-900.00',\n",
       " '',\n",
       " '-8.00',\n",
       " '-0.40',\n",
       " '-12.00',\n",
       " '-0.50',\n",
       " '-279.00',\n",
       " '-29.00',\n",
       " '',\n",
       " 'Balance (R)',\n",
       " '',\n",
       " '51.79',\n",
       " '$2.02',\n",
       " '47.02',\n",
       " '46.62',\n",
       " '486.62',\n",
       " '',\n",
       " '481.34',\n",
       " '531.34',\n",
       " '',\n",
       " '530.74',\n",
       " '529.54',\n",
       " '50.54',\n",
       " '350.54',\n",
       " '100.54',\n",
       " '99.54',\n",
       " '98.74',\n",
       " '28.74',\n",
       " '19.74',\n",
       " '19.34',\n",
       " '369.34',\n",
       " '',\n",
       " '368.14',\n",
       " '356.14',\n",
       " '355.64',\n",
       " '235.66',\n",
       " '101.86',\n",
       " '',\n",
       " '51.86',\n",
       " '',\n",
       " '43.86',\n",
       " '4993.86',\n",
       " '4 993.06',\n",
       " '4 943.06',\n",
       " '',\n",
       " '4935.06',\n",
       " '4933.46',\n",
       " '4033.46',\n",
       " '',\n",
       " '4025.46',\n",
       " '4025.06',\n",
       " '4013.06',\n",
       " '4012.56',\n",
       " '3 733.56',\n",
       " '3 704.56',\n",
       " '\\x0c']"
      ]
     },
     "execution_count": 100,
     "metadata": {},
     "output_type": "execute_result"
    }
   ],
   "source": [
    "arrValue"
   ]
  },
  {
   "cell_type": "code",
   "execution_count": 101,
   "metadata": {},
   "outputs": [],
   "source": [
    "# # Deleting the first two values \n",
    "# arrValue.pop(0)"
   ]
  },
  {
   "cell_type": "code",
   "execution_count": 102,
   "metadata": {},
   "outputs": [],
   "source": [
    "# arrValue.pop(0)"
   ]
  },
  {
   "cell_type": "code",
   "execution_count": 103,
   "metadata": {},
   "outputs": [
    {
     "data": {
      "text/plain": [
       "['Posting Date',\n",
       " '',\n",
       " '29/12/2020',\n",
       " '31/12/2020',\n",
       " '31/12/2020',\n",
       " '02/01/2021',\n",
       " '18/01/2021',\n",
       " '',\n",
       " '18/01/2021',\n",
       " '18/01/2021',\n",
       " '',\n",
       " '18/01/2021',\n",
       " '18/01/2021',\n",
       " '20/01/2021',\n",
       " '21/01/2021',\n",
       " '21/01/2021',\n",
       " '21/01/2021',\n",
       " '21/01/2021',\n",
       " '22/01/2021',\n",
       " '22/01/2021',\n",
       " '22/01/2021',\n",
       " '25/01/2021',\n",
       " '',\n",
       " '25/01/2021',\n",
       " '27/01/2021',\n",
       " '27/01/2021',\n",
       " '27/01/2021',\n",
       " '27/01/2021',\n",
       " '27/01/2021',\n",
       " '',\n",
       " '27/01/2021',\n",
       " '27/01/2021',\n",
       " '27/01/2021',\n",
       " '29/01/2021',\n",
       " '',\n",
       " '29/01/2021',\n",
       " '29/01/2021',\n",
       " '30/01/2021',\n",
       " '',\n",
       " '30/01/2021',\n",
       " '30/01/2021',\n",
       " '31/01/2021',\n",
       " '31/01/2021',\n",
       " '31/01/2021',\n",
       " '31/01/2021',\n",
       " '',\n",
       " 'Transaction',\n",
       " 'Date',\n",
       " '29/12/2020',\n",
       " '31/12/2020',\n",
       " '31/12/2020',\n",
       " '02/01/2021',\n",
       " '18/01/2021',\n",
       " '',\n",
       " '18/01/2021',\n",
       " '18/01/2021',\n",
       " '',\n",
       " '18/01/2021',\n",
       " '18/01/2021',\n",
       " '18/01/2021',\n",
       " '21/01/2021',\n",
       " '21/01/2021',\n",
       " '21/01/2021',\n",
       " '21/01/2021',\n",
       " '22/01/2021',\n",
       " '22/01/2021',\n",
       " '22/01/2021',\n",
       " '25/01/2021',\n",
       " '',\n",
       " '25/01/2021',\n",
       " '27/01/2021',\n",
       " '27/01/2021',\n",
       " '25/01/2021',\n",
       " '25/01/2021',\n",
       " '27/01/2021',\n",
       " '',\n",
       " '27/01/2021',\n",
       " '27/01/2021',\n",
       " '27/01/2021',\n",
       " '29/01/2021',\n",
       " '',\n",
       " '29/01/2021',\n",
       " '29/01/2021',\n",
       " '30/01/2021',\n",
       " '',\n",
       " '30/01/2021',\n",
       " '30/01/2021',\n",
       " '31/01/2021',\n",
       " '31/01/2021',\n",
       " '29/01/2021',\n",
       " '29/01/2021',\n",
       " '',\n",
       " 'Description',\n",
       " '',\n",
       " 'ATM Declined Withdrawal Fee',\n",
       " '',\n",
       " 'Interest Received',\n",
       " '',\n",
       " 'Monthly Account Admin Fee',\n",
       " '',\n",
       " 'Card Purchase Insufficient Funds Fee',\n",
       " '',\n",
       " 'Cash Deposit 00e3cash Dep Dnr Mam Dnr',\n",
       " 'Mamelodimamsmal 1',\n",
       " '',\n",
       " 'Cash Deposit Fee (Notes)',\n",
       " '',\n",
       " 'Cash Deposit 00e3cash Dep Dnr Mam Dnr',\n",
       " 'Mamelodimamsmal 1',\n",
       " '',\n",
       " 'Cash Deposit Fee (Notes)',\n",
       " '',\n",
       " 'SMS Notification Fee',\n",
       " '',\n",
       " 'Online purchase: Rain Bryanston (Card 5813)',\n",
       " 'Payment Received S Assegaai',\n",
       " '',\n",
       " 'Banking App Payment Hazel',\n",
       " '',\n",
       " 'Payment Fee',\n",
       " '',\n",
       " 'SMS Notification Fee',\n",
       " '',\n",
       " 'ATM Cash Withdrawal Mahube Ser2 Pretoria Gpza',\n",
       " 'ATM Cash Withdrawal Fee',\n",
       " '',\n",
       " 'SMS Notification Fee',\n",
       " '',\n",
       " 'Payment Received: Sassa Gp 78799177 Pension',\n",
       " '2199644075',\n",
       " '',\n",
       " 'SMS Notification Fee',\n",
       " '',\n",
       " 'Banking App Prepaid Purchase VODACOM',\n",
       " 'Prepaid Mobile Purchase Fee',\n",
       " '',\n",
       " 'Pick n Pay Pretoria (Card 5813)',\n",
       " '',\n",
       " 'McDonalds Gauteng (Card 5813)',\n",
       " '',\n",
       " 'ATM Cash Withdrawal Sparkatm Bp Mahube Valley',\n",
       " 'Mamelodi Gtza',\n",
       " '',\n",
       " 'ATM Cash Withdrawal Fee',\n",
       " '',\n",
       " 'Payment Received: Explore Transfer 2208481564',\n",
       " 'SMS Notification Fee',\n",
       " '',\n",
       " 'ATM Cash Withdrawal Sparkatm Bp Mahube Valley',\n",
       " 'Mamelodi Gtza',\n",
       " '',\n",
       " 'ATM Cash Withdrawal Fee',\n",
       " '',\n",
       " 'SMS Notification Fee',\n",
       " '',\n",
       " 'ATM Cash Withdrawal Sparkatm Bp Mahube Valley',\n",
       " 'Mamelodi Gtza',\n",
       " '',\n",
       " 'ATM Cash Withdrawal Fee',\n",
       " '',\n",
       " 'SMS Notification Fee',\n",
       " '',\n",
       " 'Banking App Prepaid Purchase VODACOM',\n",
       " 'Prepaid Mobile Purchase Fee',\n",
       " '',\n",
       " 'Woolworths Pretoria (Card 5813)',\n",
       " '',\n",
       " 'Pep Cell Mamelodi (Card 5813)',\n",
       " '',\n",
       " 'Money In (R)',\n",
       " '',\n",
       " '0.23',\n",
       " '',\n",
       " '440.00',\n",
       " '',\n",
       " '50.00',\n",
       " '',\n",
       " '300.00',\n",
       " '',\n",
       " '350.00',\n",
       " '',\n",
       " '4950.00',\n",
       " '',\n",
       " 'Money Out (R}',\n",
       " '-7.00',\n",
       " '',\n",
       " '-5.00',\n",
       " '-0.40',\n",
       " '',\n",
       " '5.28',\n",
       " '',\n",
       " '-0.60',\n",
       " '-1.20',\n",
       " '-479.00',\n",
       " '',\n",
       " '-250.00',\n",
       " '-1.00',\n",
       " '-0.80',\n",
       " '',\n",
       " '-70.00',\n",
       " '-9.00',\n",
       " '-0.40',\n",
       " '',\n",
       " '-1.20',\n",
       " '-12.00',\n",
       " '-0.50',\n",
       " '-119.98',\n",
       " '-133.80',\n",
       " '-50.00',\n",
       " '',\n",
       " '-8.00',\n",
       " '',\n",
       " '-0.80',\n",
       " '-50.00',\n",
       " '',\n",
       " '-8.00',\n",
       " '-1.60',\n",
       " '-900.00',\n",
       " '',\n",
       " '-8.00',\n",
       " '-0.40',\n",
       " '-12.00',\n",
       " '-0.50',\n",
       " '-279.00',\n",
       " '-29.00',\n",
       " '',\n",
       " 'Balance (R)',\n",
       " '',\n",
       " '51.79',\n",
       " '$2.02',\n",
       " '47.02',\n",
       " '46.62',\n",
       " '486.62',\n",
       " '',\n",
       " '481.34',\n",
       " '531.34',\n",
       " '',\n",
       " '530.74',\n",
       " '529.54',\n",
       " '50.54',\n",
       " '350.54',\n",
       " '100.54',\n",
       " '99.54',\n",
       " '98.74',\n",
       " '28.74',\n",
       " '19.74',\n",
       " '19.34',\n",
       " '369.34',\n",
       " '',\n",
       " '368.14',\n",
       " '356.14',\n",
       " '355.64',\n",
       " '235.66',\n",
       " '101.86',\n",
       " '',\n",
       " '51.86',\n",
       " '',\n",
       " '43.86',\n",
       " '4993.86',\n",
       " '4 993.06',\n",
       " '4 943.06',\n",
       " '',\n",
       " '4935.06',\n",
       " '4933.46',\n",
       " '4033.46',\n",
       " '',\n",
       " '4025.46',\n",
       " '4025.06',\n",
       " '4013.06',\n",
       " '4012.56',\n",
       " '3 733.56',\n",
       " '3 704.56',\n",
       " '\\x0c']"
      ]
     },
     "execution_count": 103,
     "metadata": {},
     "output_type": "execute_result"
    }
   ],
   "source": [
    "arrValue"
   ]
  },
  {
   "cell_type": "markdown",
   "metadata": {},
   "source": [
    "### __4.Deleting Empty values in list__"
   ]
  },
  {
   "cell_type": "code",
   "execution_count": 104,
   "metadata": {},
   "outputs": [],
   "source": [
    "#getiing rid of empty spaces\n",
    "# arrValue = [x for x in arrValue if x]\n",
    "# arrValue"
   ]
  },
  {
   "cell_type": "markdown",
   "metadata": {},
   "source": [
    "### __5.Extracting Posting Date__"
   ]
  },
  {
   "cell_type": "code",
   "execution_count": 105,
   "metadata": {},
   "outputs": [
    {
     "name": "stdout",
     "output_type": "stream",
     "text": [
      "1\n"
     ]
    }
   ],
   "source": [
    "#Finding Posting Date\n",
    "index_Posting = 0\n",
    "\n",
    "for x in arrValue :\n",
    "    index_Posting +=1\n",
    "\n",
    "    # find Posting Date\n",
    "    if x ==\"Posting Date\" :\n",
    "        break\n",
    "\n",
    "print(index_Posting)\n"
   ]
  },
  {
   "cell_type": "code",
   "execution_count": 106,
   "metadata": {},
   "outputs": [
    {
     "name": "stdout",
     "output_type": "stream",
     "text": [
      "47\n"
     ]
    }
   ],
   "source": [
    "#Finding Transaction\n",
    "index_transaction = 0\n",
    "\n",
    "for x in arrValue :\n",
    "    index_transaction +=1\n",
    "\n",
    "    # find Posting Date\n",
    "    if x ==\"Transaction\" :\n",
    "        break\n",
    "\n",
    "print(index_transaction)"
   ]
  },
  {
   "cell_type": "code",
   "execution_count": 107,
   "metadata": {},
   "outputs": [
    {
     "data": {
      "text/plain": [
       "45"
      ]
     },
     "execution_count": 107,
     "metadata": {},
     "output_type": "execute_result"
    }
   ],
   "source": [
    "#Create a list that copies from Posting Date to transaction Date\n",
    "Posting_list = arrValue[index_Posting: index_transaction-1]\n",
    "len(Posting_list)"
   ]
  },
  {
   "cell_type": "code",
   "execution_count": 108,
   "metadata": {},
   "outputs": [
    {
     "data": {
      "text/plain": [
       "['',\n",
       " '29/12/2020',\n",
       " '31/12/2020',\n",
       " '31/12/2020',\n",
       " '02/01/2021',\n",
       " '18/01/2021',\n",
       " '',\n",
       " '18/01/2021',\n",
       " '18/01/2021',\n",
       " '',\n",
       " '18/01/2021',\n",
       " '18/01/2021',\n",
       " '20/01/2021',\n",
       " '21/01/2021',\n",
       " '21/01/2021',\n",
       " '21/01/2021',\n",
       " '21/01/2021',\n",
       " '22/01/2021',\n",
       " '22/01/2021',\n",
       " '22/01/2021',\n",
       " '25/01/2021',\n",
       " '',\n",
       " '25/01/2021',\n",
       " '27/01/2021',\n",
       " '27/01/2021',\n",
       " '27/01/2021',\n",
       " '27/01/2021',\n",
       " '27/01/2021',\n",
       " '',\n",
       " '27/01/2021',\n",
       " '27/01/2021',\n",
       " '27/01/2021',\n",
       " '29/01/2021',\n",
       " '',\n",
       " '29/01/2021',\n",
       " '29/01/2021',\n",
       " '30/01/2021',\n",
       " '',\n",
       " '30/01/2021',\n",
       " '30/01/2021',\n",
       " '31/01/2021',\n",
       " '31/01/2021',\n",
       " '31/01/2021',\n",
       " '31/01/2021',\n",
       " '']"
      ]
     },
     "execution_count": 108,
     "metadata": {},
     "output_type": "execute_result"
    }
   ],
   "source": [
    "Posting_list"
   ]
  },
  {
   "cell_type": "code",
   "execution_count": 109,
   "metadata": {},
   "outputs": [
    {
     "data": {
      "text/plain": [
       "''"
      ]
     },
     "execution_count": 109,
     "metadata": {},
     "output_type": "execute_result"
    }
   ],
   "source": [
    "Posting_list.pop(0)"
   ]
  },
  {
   "cell_type": "code",
   "execution_count": 110,
   "metadata": {},
   "outputs": [
    {
     "data": {
      "text/plain": [
       "['29/12/2020',\n",
       " '31/12/2020',\n",
       " '31/12/2020',\n",
       " '02/01/2021',\n",
       " '18/01/2021',\n",
       " '',\n",
       " '18/01/2021',\n",
       " '18/01/2021',\n",
       " '',\n",
       " '18/01/2021',\n",
       " '18/01/2021',\n",
       " '20/01/2021',\n",
       " '21/01/2021',\n",
       " '21/01/2021',\n",
       " '21/01/2021',\n",
       " '21/01/2021',\n",
       " '22/01/2021',\n",
       " '22/01/2021',\n",
       " '22/01/2021',\n",
       " '25/01/2021',\n",
       " '',\n",
       " '25/01/2021',\n",
       " '27/01/2021',\n",
       " '27/01/2021',\n",
       " '27/01/2021',\n",
       " '27/01/2021',\n",
       " '27/01/2021',\n",
       " '',\n",
       " '27/01/2021',\n",
       " '27/01/2021',\n",
       " '27/01/2021',\n",
       " '29/01/2021',\n",
       " '',\n",
       " '29/01/2021',\n",
       " '29/01/2021',\n",
       " '30/01/2021',\n",
       " '',\n",
       " '30/01/2021',\n",
       " '30/01/2021',\n",
       " '31/01/2021',\n",
       " '31/01/2021',\n",
       " '31/01/2021',\n",
       " '31/01/2021',\n",
       " '']"
      ]
     },
     "execution_count": 110,
     "metadata": {},
     "output_type": "execute_result"
    }
   ],
   "source": [
    "Posting_list"
   ]
  },
  {
   "cell_type": "code",
   "execution_count": 111,
   "metadata": {},
   "outputs": [
    {
     "name": "stdout",
     "output_type": "stream",
     "text": [
      "[6, 9, 21, 28, 33, 37, 44]\n"
     ]
    }
   ],
   "source": [
    "#Try to identify the indices that have\"\"\n",
    "counter = 0\n",
    "new_line_position = []\n",
    "\n",
    "for x in Posting_list :\n",
    "    counter +=1\n",
    "    # find Posting Date\n",
    "    if x ==\"\" :\n",
    "        new_line_position.append(counter)\n",
    "\n",
    "print(new_line_position)\n"
   ]
  },
  {
   "cell_type": "code",
   "execution_count": 112,
   "metadata": {},
   "outputs": [
    {
     "name": "stdout",
     "output_type": "stream",
     "text": [
      "In here :6\n",
      "In here :9\n",
      "In here :21\n",
      "In here :28\n",
      "In here :33\n",
      "In here :37\n",
      "In here :44\n"
     ]
    }
   ],
   "source": [
    "# Try to find positions that match\n",
    "counter = 0\n",
    "\n",
    "for x in Posting_list : \n",
    "    counter +=1\n",
    "    if counter in new_line_position :                                                       \n",
    "        print(\"In here :\" + str(counter))\n",
    "        #Posting_list[counter-1] = Posting_list[counter-1] +\n",
    "\n"
   ]
  },
  {
   "cell_type": "code",
   "execution_count": 113,
   "metadata": {},
   "outputs": [
    {
     "data": {
      "text/plain": [
       "['29/12/2020',\n",
       " '31/12/2020',\n",
       " '31/12/2020',\n",
       " '02/01/2021',\n",
       " '18/01/2021',\n",
       " '',\n",
       " '18/01/2021',\n",
       " '18/01/2021',\n",
       " '',\n",
       " '18/01/2021',\n",
       " '18/01/2021',\n",
       " '20/01/2021',\n",
       " '21/01/2021',\n",
       " '21/01/2021',\n",
       " '21/01/2021',\n",
       " '21/01/2021',\n",
       " '22/01/2021',\n",
       " '22/01/2021',\n",
       " '22/01/2021',\n",
       " '25/01/2021',\n",
       " '',\n",
       " '25/01/2021',\n",
       " '27/01/2021',\n",
       " '27/01/2021',\n",
       " '27/01/2021',\n",
       " '27/01/2021',\n",
       " '27/01/2021',\n",
       " '',\n",
       " '27/01/2021',\n",
       " '27/01/2021',\n",
       " '27/01/2021',\n",
       " '29/01/2021',\n",
       " '',\n",
       " '29/01/2021',\n",
       " '29/01/2021',\n",
       " '30/01/2021',\n",
       " '',\n",
       " '30/01/2021',\n",
       " '30/01/2021',\n",
       " '31/01/2021',\n",
       " '31/01/2021',\n",
       " '31/01/2021',\n",
       " '31/01/2021',\n",
       " '']"
      ]
     },
     "execution_count": 113,
     "metadata": {},
     "output_type": "execute_result"
    }
   ],
   "source": [
    "Posting_list                            "
   ]
  },
  {
   "cell_type": "code",
   "execution_count": 127,
   "metadata": {},
   "outputs": [
    {
     "name": "stdout",
     "output_type": "stream",
     "text": [
      "6\n",
      "9\n",
      "21\n",
      "28\n",
      "33\n",
      "37\n",
      "44\n"
     ]
    }
   ],
   "source": [
    "\n",
    "\n",
    "for x in new_line_position :\n",
    "    # for y, item in enumerate(Posting_list):\n",
    "    #     if \"29/12/2020\" in item:                          \n",
    "    #         Posting_list[y] = \"Neo\"\n",
    "    print(x)\n",
    "\n"
   ]
  },
  {
   "cell_type": "code",
   "execution_count": null,
   "metadata": {},
   "outputs": [],
   "source": [
    "                                                                                        "
   ]
  },
  {
   "cell_type": "markdown",
   "metadata": {},
   "source": [
    "# __Restart Here__"
   ]
  },
  {
   "cell_type": "code",
   "execution_count": 189,
   "metadata": {},
   "outputs": [
    {
     "name": "stdout",
     "output_type": "stream",
     "text": [
      "93\n"
     ]
    }
   ],
   "source": [
    "#Finding Description\n",
    "index_description = 0\n",
    "\n",
    "for x in arrValue :\n",
    "    index_description +=1\n",
    "\n",
    "    # find Posting Date\n",
    "    if x ==\"Description\" :\n",
    "        break\n",
    "\n",
    "print(index_description)"
   ]
  },
  {
   "cell_type": "code",
   "execution_count": 190,
   "metadata": {},
   "outputs": [
    {
     "name": "stdout",
     "output_type": "stream",
     "text": [
      "170\n"
     ]
    }
   ],
   "source": [
    "#Finding Money In\n",
    "index_MoneyIn = 0\n",
    "\n",
    "for x in arrValue :\n",
    "    index_MoneyIn +=1\n",
    "\n",
    "    # find Posting Date\n",
    "    if x ==\"Money In (R)\" :\n",
    "        break\n",
    "\n",
    "#w when I segamant the information I need to add \"Money In(R) Money Out (R}\"\n",
    "\n",
    "print(index_MoneyIn)"
   ]
  },
  {
   "cell_type": "code",
   "execution_count": 191,
   "metadata": {},
   "outputs": [],
   "source": [
    "#Create a list that copies from transactio Date to Description\n",
    "transaction_list = arrValue[index_transaction+1:index_description-2]"
   ]
  },
  {
   "cell_type": "code",
   "execution_count": 192,
   "metadata": {},
   "outputs": [
    {
     "data": {
      "text/plain": [
       "['29/12/2020',\n",
       " '31/12/2020',\n",
       " '31/12/2020',\n",
       " '02/01/2021',\n",
       " '18/01/2021',\n",
       " '',\n",
       " '18/01/2021',\n",
       " '18/01/2021',\n",
       " '',\n",
       " '18/01/2021',\n",
       " '18/01/2021',\n",
       " '18/01/2021',\n",
       " '21/01/2021',\n",
       " '21/01/2021',\n",
       " '21/01/2021',\n",
       " '21/01/2021',\n",
       " '22/01/2021',\n",
       " '22/01/2021',\n",
       " '22/01/2021',\n",
       " '25/01/2021',\n",
       " '',\n",
       " '25/01/2021',\n",
       " '27/01/2021',\n",
       " '27/01/2021',\n",
       " '25/01/2021',\n",
       " '25/01/2021',\n",
       " '27/01/2021',\n",
       " '',\n",
       " '27/01/2021',\n",
       " '27/01/2021',\n",
       " '27/01/2021',\n",
       " '29/01/2021',\n",
       " '',\n",
       " '29/01/2021',\n",
       " '29/01/2021',\n",
       " '30/01/2021',\n",
       " '',\n",
       " '30/01/2021',\n",
       " '30/01/2021',\n",
       " '31/01/2021',\n",
       " '31/01/2021',\n",
       " '29/01/2021',\n",
       " '29/01/2021']"
      ]
     },
     "execution_count": 192,
     "metadata": {},
     "output_type": "execute_result"
    }
   ],
   "source": [
    "transaction_list"
   ]
  },
  {
   "cell_type": "code",
   "execution_count": 193,
   "metadata": {},
   "outputs": [],
   "source": [
    "description_list = arrValue[index_description:index_MoneyIn-1]"
   ]
  },
  {
   "cell_type": "code",
   "execution_count": 194,
   "metadata": {},
   "outputs": [],
   "source": [
    "#getiing rid of empty spaces\n",
    "description_list = [x for x in description_list if x]"
   ]
  },
  {
   "cell_type": "code",
   "execution_count": 195,
   "metadata": {},
   "outputs": [
    {
     "data": {
      "text/plain": [
       "['ATM Declined Withdrawal Fee',\n",
       " 'Interest Received',\n",
       " 'Monthly Account Admin Fee',\n",
       " 'Card Purchase Insufficient Funds Fee',\n",
       " 'Cash Deposit 00e3cash Dep Dnr Mam Dnr',\n",
       " 'Mamelodimamsmal 1',\n",
       " 'Cash Deposit Fee (Notes)',\n",
       " 'Cash Deposit 00e3cash Dep Dnr Mam Dnr',\n",
       " 'Mamelodimamsmal 1',\n",
       " 'Cash Deposit Fee (Notes)',\n",
       " 'SMS Notification Fee',\n",
       " 'Online purchase: Rain Bryanston (Card 5813)',\n",
       " 'Payment Received S Assegaai',\n",
       " 'Banking App Payment Hazel',\n",
       " 'Payment Fee',\n",
       " 'SMS Notification Fee',\n",
       " 'ATM Cash Withdrawal Mahube Ser2 Pretoria Gpza',\n",
       " 'ATM Cash Withdrawal Fee',\n",
       " 'SMS Notification Fee',\n",
       " 'Payment Received: Sassa Gp 78799177 Pension',\n",
       " '2199644075',\n",
       " 'SMS Notification Fee',\n",
       " 'Banking App Prepaid Purchase VODACOM',\n",
       " 'Prepaid Mobile Purchase Fee',\n",
       " 'Pick n Pay Pretoria (Card 5813)',\n",
       " 'McDonalds Gauteng (Card 5813)',\n",
       " 'ATM Cash Withdrawal Sparkatm Bp Mahube Valley',\n",
       " 'Mamelodi Gtza',\n",
       " 'ATM Cash Withdrawal Fee',\n",
       " 'Payment Received: Explore Transfer 2208481564',\n",
       " 'SMS Notification Fee',\n",
       " 'ATM Cash Withdrawal Sparkatm Bp Mahube Valley',\n",
       " 'Mamelodi Gtza',\n",
       " 'ATM Cash Withdrawal Fee',\n",
       " 'SMS Notification Fee',\n",
       " 'ATM Cash Withdrawal Sparkatm Bp Mahube Valley',\n",
       " 'Mamelodi Gtza',\n",
       " 'ATM Cash Withdrawal Fee',\n",
       " 'SMS Notification Fee',\n",
       " 'Banking App Prepaid Purchase VODACOM',\n",
       " 'Prepaid Mobile Purchase Fee',\n",
       " 'Woolworths Pretoria (Card 5813)',\n",
       " 'Pep Cell Mamelodi (Card 5813)']"
      ]
     },
     "execution_count": 195,
     "metadata": {},
     "output_type": "execute_result"
    }
   ],
   "source": [
    "description_list"
   ]
  },
  {
   "cell_type": "code",
   "execution_count": 196,
   "metadata": {},
   "outputs": [
    {
     "data": {
      "text/plain": [
       "[6, 9, 21, 28, 33, 37, 44]"
      ]
     },
     "execution_count": 196,
     "metadata": {},
     "output_type": "execute_result"
    }
   ],
   "source": [
    "# We need to add certain values to previouse values\n",
    "new_line_position"
   ]
  },
  {
   "cell_type": "code",
   "execution_count": 197,
   "metadata": {},
   "outputs": [],
   "source": [
    "for x in new_line_position :\n",
    "    for y, item in enumerate(description_list):\n",
    "        if x == y :\n",
    "            description_list[y-2] = description_list[y-2] + \" \" + description_list[y-1]\n"
   ]
  },
  {
   "cell_type": "code",
   "execution_count": 198,
   "metadata": {},
   "outputs": [
    {
     "data": {
      "text/plain": [
       "43"
      ]
     },
     "execution_count": 198,
     "metadata": {},
     "output_type": "execute_result"
    }
   ],
   "source": [
    "len(description_list)"
   ]
  },
  {
   "cell_type": "code",
   "execution_count": 199,
   "metadata": {},
   "outputs": [],
   "source": [
    "#Deleting additional values\n",
    "for x in new_line_position :\n",
    "    for y, item in enumerate(description_list):\n",
    "        if x == y :\n",
    "            description_list.pop(y)"
   ]
  },
  {
   "cell_type": "code",
   "execution_count": 202,
   "metadata": {},
   "outputs": [
    {
     "data": {
      "text/plain": [
       "['ATM Declined Withdrawal Fee',\n",
       " 'Interest Received',\n",
       " 'Monthly Account Admin Fee',\n",
       " 'Card Purchase Insufficient Funds Fee',\n",
       " 'Cash Deposit 00e3cash Dep Dnr Mam Dnr Mamelodimamsmal 1',\n",
       " 'Mamelodimamsmal 1',\n",
       " 'Cash Deposit 00e3cash Dep Dnr Mam Dnr Mamelodimamsmal 1',\n",
       " 'Mamelodimamsmal 1',\n",
       " 'Cash Deposit Fee (Notes)',\n",
       " 'Online purchase: Rain Bryanston (Card 5813)',\n",
       " 'Payment Received S Assegaai',\n",
       " 'Banking App Payment Hazel',\n",
       " 'Payment Fee',\n",
       " 'SMS Notification Fee',\n",
       " 'ATM Cash Withdrawal Mahube Ser2 Pretoria Gpza',\n",
       " 'ATM Cash Withdrawal Fee',\n",
       " 'SMS Notification Fee',\n",
       " 'Payment Received: Sassa Gp 78799177 Pension 2199644075',\n",
       " '2199644075',\n",
       " 'SMS Notification Fee',\n",
       " 'Banking App Prepaid Purchase VODACOM',\n",
       " 'Pick n Pay Pretoria (Card 5813)',\n",
       " 'McDonalds Gauteng (Card 5813)',\n",
       " 'ATM Cash Withdrawal Sparkatm Bp Mahube Valley Mamelodi Gtza',\n",
       " 'Mamelodi Gtza',\n",
       " 'ATM Cash Withdrawal Fee',\n",
       " 'Payment Received: Explore Transfer 2208481564',\n",
       " 'SMS Notification Fee',\n",
       " 'Mamelodi Gtza',\n",
       " 'ATM Cash Withdrawal Fee',\n",
       " 'SMS Notification Fee',\n",
       " 'ATM Cash Withdrawal Sparkatm Bp Mahube Valley Mamelodi Gtza',\n",
       " 'Mamelodi Gtza',\n",
       " 'SMS Notification Fee',\n",
       " 'Banking App Prepaid Purchase VODACOM',\n",
       " 'Prepaid Mobile Purchase Fee',\n",
       " 'Woolworths Pretoria (Card 5813)']"
      ]
     },
     "execution_count": 202,
     "metadata": {},
     "output_type": "execute_result"
    }
   ],
   "source": [
    "description_list"
   ]
  },
  {
   "cell_type": "code",
   "execution_count": null,
   "metadata": {},
   "outputs": [],
   "source": []
  }
 ],
 "metadata": {
  "interpreter": {
   "hash": "a65086c3c9f076f48bef7927f4f794e49f110bea0d8d4a0dbfc033a1f9d78305"
  },
  "kernelspec": {
   "display_name": "Python 3.9.7 64-bit",
   "name": "python3"
  },
  "language_info": {
   "codemirror_mode": {
    "name": "ipython",
    "version": 3
   },
   "file_extension": ".py",
   "mimetype": "text/x-python",
   "name": "python",
   "nbconvert_exporter": "python",
   "pygments_lexer": "ipython3",
   "version": "3.9.7"
  },
  "orig_nbformat": 4
 },
 "nbformat": 4,
 "nbformat_minor": 2
}
