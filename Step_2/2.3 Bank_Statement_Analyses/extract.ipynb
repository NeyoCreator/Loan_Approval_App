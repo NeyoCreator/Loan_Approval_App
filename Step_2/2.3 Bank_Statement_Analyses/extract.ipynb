{
 "cells": [
  {
   "cell_type": "code",
   "execution_count": null,
   "source": [
    "# Aim :to extract data from the image bank statement"
   ],
   "outputs": [],
   "metadata": {}
  },
  {
   "cell_type": "markdown",
   "source": [
    "### __1.Importing Libraries__"
   ],
   "metadata": {}
  },
  {
   "cell_type": "code",
   "execution_count": 1,
   "source": [
    "#importing the libraries\r\n",
    "import cv2\r\n",
    "import numpy as np\r\n",
    "import pytesseract as tess\r\n",
    "tess.pytesseract.tesseract_cmd = r'C:\\Program Files\\Tesseract-OCR\\tesseract.exe'\r\n",
    "import matplotlib.pyplot as plt\r\n",
    "import pandas as pd\r\n",
    "from PIL import Image"
   ],
   "outputs": [],
   "metadata": {}
  },
  {
   "cell_type": "markdown",
   "source": [
    "### __2. Function Creation__"
   ],
   "metadata": {}
  },
  {
   "cell_type": "code",
   "execution_count": 2,
   "source": [
    "#create a function that wwill return a threshold image and the value \r\n",
    "def extract_data(img):\r\n",
    "    gray = cv2.cvtColor(img, cv2.COLOR_BGR2GRAY)\r\n",
    "    threshed = cv2.adaptiveThreshold(gray,255, cv2.ADAPTIVE_THRESH_MEAN_C,cv2.THRESH_BINARY,11,17)\r\n",
    "    text1 = tess.image_to_data(threshed,output_type='data.frame')\r\n",
    "    text2 = tess.image_to_string(threshed)\r\n",
    "    text = text1[text1.conf != -1]\r\n",
    "    # lines = text.groupby('block_num')['text'].apply(list)\r\n",
    "    # conf = text.groupby(['block_num'])['conf'].mean()\r\n",
    "    return text2"
   ],
   "outputs": [],
   "metadata": {}
  },
  {
   "cell_type": "markdown",
   "source": [
    "### __3.Implementing Function__"
   ],
   "metadata": {}
  },
  {
   "cell_type": "code",
   "execution_count": 14,
   "source": [
    "# implement the function \r\n",
    "img = cv2.imread(\"page0.jpg\")\r\n",
    "txt_value = extract_data(img)\r\n",
    "\r\n",
    "# split the string to array\r\n",
    "arrValue = txt_value.split(\"\\n\")"
   ],
   "outputs": [],
   "metadata": {}
  },
  {
   "cell_type": "markdown",
   "source": [
    "### __4.Deleting Empty values in list__"
   ],
   "metadata": {}
  },
  {
   "cell_type": "code",
   "execution_count": 19,
   "source": [
    "#getiing rid of empty spaces\r\n",
    "arrValue = [x for x in arrValue if x]\r\n",
    "#arrValue"
   ],
   "outputs": [],
   "metadata": {}
  },
  {
   "cell_type": "markdown",
   "source": [
    "### __5.Extracting Posting Date__"
   ],
   "metadata": {}
  },
  {
   "cell_type": "code",
   "execution_count": 21,
   "source": [
    "#Finding Posting Date\r\n",
    "index_Posting = 0\r\n",
    "\r\n",
    "for x in arrValue :\r\n",
    "    index_Posting +=1\r\n",
    "\r\n",
    "    # find Posting Date\r\n",
    "    if x ==\"Posting Date\" :\r\n",
    "        break\r\n",
    "\r\n",
    "\r\n",
    "print(index_Posting)"
   ],
   "outputs": [
    {
     "output_type": "stream",
     "name": "stdout",
     "text": [
      "8\n"
     ]
    }
   ],
   "metadata": {}
  },
  {
   "cell_type": "code",
   "execution_count": null,
   "source": [
    "#Finding Description\r\n",
    "\r\n",
    "for x in arrValue :\r\n",
    "    y +=1\r\n",
    "\r\n",
    "    # find Posting Date\r\n",
    "    if x ==\"Posting Date\" :\r\n",
    "        isHere = True\r\n",
    "        break\r\n",
    "\r\n",
    "\r\n",
    "print(y)"
   ],
   "outputs": [],
   "metadata": {}
  }
 ],
 "metadata": {
  "orig_nbformat": 4,
  "language_info": {
   "name": "python",
   "version": "3.9.7",
   "mimetype": "text/x-python",
   "codemirror_mode": {
    "name": "ipython",
    "version": 3
   },
   "pygments_lexer": "ipython3",
   "nbconvert_exporter": "python",
   "file_extension": ".py"
  },
  "kernelspec": {
   "name": "python3",
   "display_name": "Python 3.9.7 64-bit"
  },
  "interpreter": {
   "hash": "a65086c3c9f076f48bef7927f4f794e49f110bea0d8d4a0dbfc033a1f9d78305"
  }
 },
 "nbformat": 4,
 "nbformat_minor": 2
}