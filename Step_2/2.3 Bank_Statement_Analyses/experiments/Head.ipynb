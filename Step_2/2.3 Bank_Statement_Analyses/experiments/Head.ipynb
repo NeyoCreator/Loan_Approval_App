{
 "cells": [
  {
   "cell_type": "markdown",
   "metadata": {},
   "source": [
    "### __PDF Finder__"
   ]
  },
  {
   "cell_type": "code",
   "execution_count": 1,
   "metadata": {},
   "outputs": [],
   "source": [
    "import fitz  # this is pymupdf\n",
    "import pandas as pd"
   ]
  },
  {
   "cell_type": "code",
   "execution_count": 2,
   "metadata": {},
   "outputs": [
    {
     "name": "stderr",
     "output_type": "stream",
     "text": [
      "Deprecation: 'getText' removed from class 'Page' after v1.19.0 - use 'get_text'.\n"
     ]
    }
   ],
   "source": [
    "with fitz.open(\"account_statement.pdf\") as doc:\n",
    "    text = \"\"\n",
    "    for x, page in enumerate(doc):\n",
    "        text += page.getText()"
   ]
  },
  {
   "cell_type": "code",
   "execution_count": 3,
   "metadata": {},
   "outputs": [],
   "source": [
    "data_array = text.split(\"\\n\")"
   ]
  },
  {
   "cell_type": "markdown",
   "metadata": {},
   "source": [
    "### __Identifying Page0__"
   ]
  },
  {
   "cell_type": "code",
   "execution_count": 4,
   "metadata": {},
   "outputs": [],
   "source": [
    "#data_array"
   ]
  },
  {
   "cell_type": "code",
   "execution_count": 5,
   "metadata": {},
   "outputs": [],
   "source": [
    "#Extracting page0 to a list \n",
    "mark1 = 0\n",
    "mark2 = 0\n",
    "\n",
    "#Identify markers\n",
    "page1 = []\n",
    "for x , y in enumerate(data_array):\n",
    "    if data_array[x] == \"Balance (R)\":\n",
    "        mark1= x\n",
    "    \n",
    "    if data_array[x] == \"Page 2 of 4\":\n",
    "        mark2= x\n",
    "\n",
    "#Extract Page1\n",
    "page1 = data_array[mark1+1: mark2-1]"
   ]
  },
  {
   "cell_type": "markdown",
   "metadata": {},
   "source": [
    "### __Fix Description Error__"
   ]
  },
  {
   "cell_type": "code",
   "execution_count": 6,
   "metadata": {},
   "outputs": [],
   "source": [
    "# Identify if the charcter is a letter\n",
    "for x ,y in enumerate(page1):\n",
    "\n",
    "    #Check if the character is alphabet\n",
    "    if page1[x][:1].isalpha() :\n",
    "        #print(page1[x])\n",
    "        #Check if its next character is alaphabet\n",
    "        if  \".\" not in page1[x+1]:\n",
    "            page1[x] = page1[x] +\" \"+page1[x+1]\n",
    "            page1[x+1] = \"\"\n",
    "\n",
    "# Delete empty spaces\n",
    "page1 = [x for x in page1 if x]\n",
    "    \n"
   ]
  },
  {
   "cell_type": "markdown",
   "metadata": {},
   "source": [
    "### __Delete Money In or Out__"
   ]
  },
  {
   "cell_type": "code",
   "execution_count": 7,
   "metadata": {},
   "outputs": [],
   "source": [
    "#Dealing with the initial element\n",
    "page1[3] =\"\"\n",
    "\n",
    "#Looping through the list\n",
    "x = 3\n",
    "while x < len(page1):\n",
    "    x+= 5\n",
    "    if (x <len(page1)):\n",
    "        page1[x]= \"\"\n",
    "    else :\n",
    "        break\n",
    "\n",
    "page1 = [x for x in page1 if x]\n",
    "\n",
    "\n"
   ]
  },
  {
   "cell_type": "markdown",
   "metadata": {},
   "source": [
    "### __Posting Date__"
   ]
  },
  {
   "cell_type": "code",
   "execution_count": 8,
   "metadata": {},
   "outputs": [],
   "source": [
    "#Dealing with the initial element\n",
    "posting_list = []\n",
    "\n",
    "#Looping through the list\n",
    "x = 0\n",
    "posting_list.append(page1[0])\n",
    "while x < len(page1):\n",
    "    x+= 4\n",
    "    if (x <len(page1)):\n",
    "        posting_list.append(page1[x])\n",
    "\n",
    "    else :\n",
    "        break"
   ]
  },
  {
   "cell_type": "markdown",
   "metadata": {},
   "source": [
    "### __Transaction Date__"
   ]
  },
  {
   "cell_type": "code",
   "execution_count": 9,
   "metadata": {},
   "outputs": [],
   "source": [
    "\n",
    "#Dealing with the initial element \n",
    "transaction_list = []\n",
    "\n",
    "#Looping through the list \n",
    "x = 1\n",
    "transaction_list.append(page1[x])\n",
    "\n",
    "while x < len(page1):\n",
    "    x+= 4\n",
    "    if (x <len(page1)):\n",
    "        transaction_list.append(page1[x])\n",
    "    else :\n",
    "        break\n",
    "\n",
    "\n"
   ]
  },
  {
   "cell_type": "markdown",
   "metadata": {},
   "source": [
    "### __Desciption__"
   ]
  },
  {
   "cell_type": "code",
   "execution_count": 10,
   "metadata": {},
   "outputs": [],
   "source": [
    "#Dealing with the initial element \n",
    "description_list = []\n",
    "\n",
    "#Looping through the list \n",
    "x = 2\n",
    "description_list.append(page1[x])\n",
    "\n",
    "while x < len(page1):\n",
    "    x+= 4\n",
    "    if (x <len(page1)):\n",
    "        description_list.append(page1[x])\n",
    "    else :\n",
    "        break"
   ]
  },
  {
   "cell_type": "markdown",
   "metadata": {},
   "source": [
    "### __Balance__"
   ]
  },
  {
   "cell_type": "code",
   "execution_count": 11,
   "metadata": {},
   "outputs": [],
   "source": [
    "#Dealing with the initial element \n",
    "balance_list = []\n",
    "\n",
    "#Looping through the list \n",
    "x = 3\n",
    "balance_list.append(page1[x])\n",
    "\n",
    "while x < len(page1):\n",
    "    x+= 4\n",
    "    if (x <len(page1)):\n",
    "        balance_list.append(page1[x])\n",
    "    else :\n",
    "        break"
   ]
  },
  {
   "cell_type": "markdown",
   "metadata": {},
   "source": [
    "### __Creating Database__"
   ]
  },
  {
   "cell_type": "code",
   "execution_count": 12,
   "metadata": {},
   "outputs": [],
   "source": [
    "statement_dictionary = {\"Posting Date\": posting_list,\n",
    "                        \"Transaction Date\":transaction_list, \n",
    "                        \"Description\": description_list,\n",
    "                        \"Balance\": balance_list\n",
    "}\n",
    "\n",
    "#Create Pandas dataframe\n",
    "statement_df = pd.DataFrame(statement_dictionary)"
   ]
  },
  {
   "cell_type": "code",
   "execution_count": 14,
   "metadata": {},
   "outputs": [
    {
     "data": {
      "text/html": [
       "<div>\n",
       "<style scoped>\n",
       "    .dataframe tbody tr th:only-of-type {\n",
       "        vertical-align: middle;\n",
       "    }\n",
       "\n",
       "    .dataframe tbody tr th {\n",
       "        vertical-align: top;\n",
       "    }\n",
       "\n",
       "    .dataframe thead th {\n",
       "        text-align: right;\n",
       "    }\n",
       "</style>\n",
       "<table border=\"1\" class=\"dataframe\">\n",
       "  <thead>\n",
       "    <tr style=\"text-align: right;\">\n",
       "      <th></th>\n",
       "      <th>Posting Date</th>\n",
       "      <th>Transaction Date</th>\n",
       "      <th>Description</th>\n",
       "      <th>Balance</th>\n",
       "    </tr>\n",
       "  </thead>\n",
       "  <tbody>\n",
       "    <tr>\n",
       "      <th>0</th>\n",
       "      <td>29/12/2020</td>\n",
       "      <td>29/12/2020</td>\n",
       "      <td>ATM Declined Withdrawal Fee</td>\n",
       "      <td>51.79</td>\n",
       "    </tr>\n",
       "    <tr>\n",
       "      <th>1</th>\n",
       "      <td>31/12/2020</td>\n",
       "      <td>31/12/2020</td>\n",
       "      <td>Interest Received</td>\n",
       "      <td>52.02</td>\n",
       "    </tr>\n",
       "    <tr>\n",
       "      <th>2</th>\n",
       "      <td>31/12/2020</td>\n",
       "      <td>31/12/2020</td>\n",
       "      <td>Monthly Account Admin Fee</td>\n",
       "      <td>47.02</td>\n",
       "    </tr>\n",
       "    <tr>\n",
       "      <th>3</th>\n",
       "      <td>02/01/2021</td>\n",
       "      <td>02/01/2021</td>\n",
       "      <td>Card Purchase Insufficient Funds Fee</td>\n",
       "      <td>46.62</td>\n",
       "    </tr>\n",
       "    <tr>\n",
       "      <th>4</th>\n",
       "      <td>18/01/2021</td>\n",
       "      <td>18/01/2021</td>\n",
       "      <td>Cash Deposit 00e3cash Dep Dnr Mam Dnr Mamelodi...</td>\n",
       "      <td>486.62</td>\n",
       "    </tr>\n",
       "    <tr>\n",
       "      <th>5</th>\n",
       "      <td>18/01/2021</td>\n",
       "      <td>18/01/2021</td>\n",
       "      <td>Cash Deposit Fee (Notes)</td>\n",
       "      <td>481.34</td>\n",
       "    </tr>\n",
       "    <tr>\n",
       "      <th>6</th>\n",
       "      <td>18/01/2021</td>\n",
       "      <td>18/01/2021</td>\n",
       "      <td>Cash Deposit 00e3cash Dep Dnr Mam Dnr Mamelodi...</td>\n",
       "      <td>531.34</td>\n",
       "    </tr>\n",
       "    <tr>\n",
       "      <th>7</th>\n",
       "      <td>18/01/2021</td>\n",
       "      <td>18/01/2021</td>\n",
       "      <td>Cash Deposit Fee (Notes)</td>\n",
       "      <td>530.74</td>\n",
       "    </tr>\n",
       "    <tr>\n",
       "      <th>8</th>\n",
       "      <td>18/01/2021</td>\n",
       "      <td>18/01/2021</td>\n",
       "      <td>SMS Notification Fee</td>\n",
       "      <td>529.54</td>\n",
       "    </tr>\n",
       "    <tr>\n",
       "      <th>9</th>\n",
       "      <td>20/01/2021</td>\n",
       "      <td>18/01/2021</td>\n",
       "      <td>Online purchase: Rain Bryanston (Card 5813)</td>\n",
       "      <td>50.54</td>\n",
       "    </tr>\n",
       "    <tr>\n",
       "      <th>10</th>\n",
       "      <td>21/01/2021</td>\n",
       "      <td>21/01/2021</td>\n",
       "      <td>Payment Received S Assegaai</td>\n",
       "      <td>350.54</td>\n",
       "    </tr>\n",
       "    <tr>\n",
       "      <th>11</th>\n",
       "      <td>21/01/2021</td>\n",
       "      <td>21/01/2021</td>\n",
       "      <td>Banking App Payment Hazel</td>\n",
       "      <td>100.54</td>\n",
       "    </tr>\n",
       "    <tr>\n",
       "      <th>12</th>\n",
       "      <td>21/01/2021</td>\n",
       "      <td>21/01/2021</td>\n",
       "      <td>Payment Fee</td>\n",
       "      <td>99.54</td>\n",
       "    </tr>\n",
       "    <tr>\n",
       "      <th>13</th>\n",
       "      <td>21/01/2021</td>\n",
       "      <td>21/01/2021</td>\n",
       "      <td>SMS Notification Fee</td>\n",
       "      <td>98.74</td>\n",
       "    </tr>\n",
       "    <tr>\n",
       "      <th>14</th>\n",
       "      <td>22/01/2021</td>\n",
       "      <td>22/01/2021</td>\n",
       "      <td>ATM Cash Withdrawal Mahube Ser2 Pretoria Gpza</td>\n",
       "      <td>28.74</td>\n",
       "    </tr>\n",
       "    <tr>\n",
       "      <th>15</th>\n",
       "      <td>22/01/2021</td>\n",
       "      <td>22/01/2021</td>\n",
       "      <td>ATM Cash Withdrawal Fee</td>\n",
       "      <td>19.74</td>\n",
       "    </tr>\n",
       "    <tr>\n",
       "      <th>16</th>\n",
       "      <td>22/01/2021</td>\n",
       "      <td>22/01/2021</td>\n",
       "      <td>SMS Notification Fee</td>\n",
       "      <td>19.34</td>\n",
       "    </tr>\n",
       "    <tr>\n",
       "      <th>17</th>\n",
       "      <td>25/01/2021</td>\n",
       "      <td>25/01/2021</td>\n",
       "      <td>Payment Received: Sassa Gp 78799177 Pension 21...</td>\n",
       "      <td>369.34</td>\n",
       "    </tr>\n",
       "    <tr>\n",
       "      <th>18</th>\n",
       "      <td>25/01/2021</td>\n",
       "      <td>25/01/2021</td>\n",
       "      <td>SMS Notification Fee</td>\n",
       "      <td>368.14</td>\n",
       "    </tr>\n",
       "    <tr>\n",
       "      <th>19</th>\n",
       "      <td>27/01/2021</td>\n",
       "      <td>27/01/2021</td>\n",
       "      <td>Banking App Prepaid Purchase VODACOM</td>\n",
       "      <td>356.14</td>\n",
       "    </tr>\n",
       "  </tbody>\n",
       "</table>\n",
       "</div>"
      ],
      "text/plain": [
       "   Posting Date Transaction Date  \\\n",
       "0    29/12/2020       29/12/2020   \n",
       "1    31/12/2020       31/12/2020   \n",
       "2    31/12/2020       31/12/2020   \n",
       "3    02/01/2021       02/01/2021   \n",
       "4    18/01/2021       18/01/2021   \n",
       "5    18/01/2021       18/01/2021   \n",
       "6    18/01/2021       18/01/2021   \n",
       "7    18/01/2021       18/01/2021   \n",
       "8    18/01/2021       18/01/2021   \n",
       "9    20/01/2021       18/01/2021   \n",
       "10   21/01/2021       21/01/2021   \n",
       "11   21/01/2021       21/01/2021   \n",
       "12   21/01/2021       21/01/2021   \n",
       "13   21/01/2021       21/01/2021   \n",
       "14   22/01/2021       22/01/2021   \n",
       "15   22/01/2021       22/01/2021   \n",
       "16   22/01/2021       22/01/2021   \n",
       "17   25/01/2021       25/01/2021   \n",
       "18   25/01/2021       25/01/2021   \n",
       "19   27/01/2021       27/01/2021   \n",
       "\n",
       "                                          Description Balance  \n",
       "0                         ATM Declined Withdrawal Fee   51.79  \n",
       "1                                   Interest Received   52.02  \n",
       "2                           Monthly Account Admin Fee   47.02  \n",
       "3                Card Purchase Insufficient Funds Fee   46.62  \n",
       "4   Cash Deposit 00e3cash Dep Dnr Mam Dnr Mamelodi...  486.62  \n",
       "5                            Cash Deposit Fee (Notes)  481.34  \n",
       "6   Cash Deposit 00e3cash Dep Dnr Mam Dnr Mamelodi...  531.34  \n",
       "7                            Cash Deposit Fee (Notes)  530.74  \n",
       "8                                SMS Notification Fee  529.54  \n",
       "9         Online purchase: Rain Bryanston (Card 5813)   50.54  \n",
       "10                        Payment Received S Assegaai  350.54  \n",
       "11                          Banking App Payment Hazel  100.54  \n",
       "12                                        Payment Fee   99.54  \n",
       "13                               SMS Notification Fee   98.74  \n",
       "14      ATM Cash Withdrawal Mahube Ser2 Pretoria Gpza   28.74  \n",
       "15                            ATM Cash Withdrawal Fee   19.74  \n",
       "16                               SMS Notification Fee   19.34  \n",
       "17  Payment Received: Sassa Gp 78799177 Pension 21...  369.34  \n",
       "18                               SMS Notification Fee  368.14  \n",
       "19               Banking App Prepaid Purchase VODACOM  356.14  "
      ]
     },
     "execution_count": 14,
     "metadata": {},
     "output_type": "execute_result"
    }
   ],
   "source": [
    "statement_df.head(20)"
   ]
  },
  {
   "cell_type": "code",
   "execution_count": null,
   "metadata": {},
   "outputs": [],
   "source": []
  },
  {
   "cell_type": "code",
   "execution_count": null,
   "metadata": {},
   "outputs": [],
   "source": []
  },
  {
   "cell_type": "markdown",
   "metadata": {},
   "source": []
  }
 ],
 "metadata": {
  "interpreter": {
   "hash": "a65086c3c9f076f48bef7927f4f794e49f110bea0d8d4a0dbfc033a1f9d78305"
  },
  "kernelspec": {
   "display_name": "Python 3.9.7 64-bit",
   "language": "python",
   "name": "python3"
  },
  "language_info": {
   "codemirror_mode": {
    "name": "ipython",
    "version": 3
   },
   "file_extension": ".py",
   "mimetype": "text/x-python",
   "name": "python",
   "nbconvert_exporter": "python",
   "pygments_lexer": "ipython3",
   "version": "3.9.7"
  },
  "orig_nbformat": 4
 },
 "nbformat": 4,
 "nbformat_minor": 2
}
