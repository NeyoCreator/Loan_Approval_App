{
 "cells": [
  {
   "cell_type": "code",
   "execution_count": 28,
   "metadata": {},
   "outputs": [],
   "source": [
    "import fitz  # this is pymupdf\n",
    "import pandas as pd"
   ]
  },
  {
   "cell_type": "code",
   "execution_count": 2,
   "metadata": {},
   "outputs": [
    {
     "name": "stderr",
     "output_type": "stream",
     "text": [
      "Deprecation: 'getText' removed from class 'Page' after v1.19.0 - use 'get_text'.\n"
     ]
    }
   ],
   "source": [
    "with fitz.open(\"account_statement.pdf\") as doc:\n",
    "    text = \"\"\n",
    "    for x, page in enumerate(doc):\n",
    "        text += page.getText()"
   ]
  },
  {
   "cell_type": "code",
   "execution_count": 3,
   "metadata": {},
   "outputs": [],
   "source": [
    "data_array = text.split(\"\\n\")"
   ]
  },
  {
   "cell_type": "markdown",
   "metadata": {},
   "source": [
    "### __Identifyying Page1__"
   ]
  },
  {
   "cell_type": "code",
   "execution_count": 9,
   "metadata": {},
   "outputs": [],
   "source": [
    "#Extracting page1 to a list \n",
    "mark1 = 0\n",
    "mark2 = 0\n",
    "\n",
    "#Identify markers\n",
    "page1 = []\n",
    "for x , y in enumerate(data_array):\n",
    "    if data_array[x] == \"Page 2 of 4\":\n",
    "        mark1= x\n",
    "    \n",
    "    if data_array[x] == \"Page 3 of 4\":\n",
    "        mark2= x\n",
    "\n",
    "#Extract Page1\n",
    "page1 = data_array[mark1+6: mark2-1]"
   ]
  },
  {
   "cell_type": "markdown",
   "metadata": {},
   "source": [
    "### __Fix Description Error__"
   ]
  },
  {
   "cell_type": "code",
   "execution_count": 11,
   "metadata": {},
   "outputs": [],
   "source": [
    "# Identify if the charcter is a letter\n",
    "for x ,y in enumerate(page1):\n",
    "\n",
    "    #Check if the character is alphabet\n",
    "    if page1[x][:1].isalpha() :\n",
    "        #print(page1[x])\n",
    "        #Check if its next character is alaphabet\n",
    "        if  \".\" not in page1[x+1]:\n",
    "            page1[x] = page1[x] +\" \"+page1[x+1]\n",
    "            page1[x+1] = \"\"\n",
    "\n",
    "# Delete empty spaces\n",
    "page1 = [x for x in page1 if x]\n",
    "    \n"
   ]
  },
  {
   "cell_type": "markdown",
   "metadata": {},
   "source": [
    "### __Delete Money In or Out__"
   ]
  },
  {
   "cell_type": "code",
   "execution_count": 13,
   "metadata": {},
   "outputs": [],
   "source": [
    "#Dealing with the initial element\n",
    "page1[3] =\"\"\n",
    "\n",
    "#Looping through the list\n",
    "x = 3\n",
    "while x < len(page1):\n",
    "    x+= 5\n",
    "    if (x <len(page1)):\n",
    "        page1[x]= \"\"\n",
    "    else :\n",
    "        break\n",
    "\n",
    "page1 = [x for x in page1 if x]\n",
    "\n",
    "\n"
   ]
  },
  {
   "cell_type": "markdown",
   "metadata": {},
   "source": [
    "### __Posting Date__"
   ]
  },
  {
   "cell_type": "code",
   "execution_count": 15,
   "metadata": {},
   "outputs": [],
   "source": [
    "#Dealing with the initial element\n",
    "posting_list = []\n",
    "\n",
    "#Looping through the list\n",
    "x = 0\n",
    "posting_list.append(page1[0])\n",
    "while x < len(page1):\n",
    "    x+= 4\n",
    "    if (x <len(page1)):\n",
    "        posting_list.append(page1[x])\n",
    "\n",
    "    else :\n",
    "        break"
   ]
  },
  {
   "cell_type": "markdown",
   "metadata": {},
   "source": [
    "### __Transaction Date__"
   ]
  },
  {
   "cell_type": "code",
   "execution_count": 17,
   "metadata": {},
   "outputs": [],
   "source": [
    "\n",
    "#Dealing with the initial element \n",
    "transaction_list = []\n",
    "\n",
    "#Looping through the list \n",
    "x = 1\n",
    "transaction_list.append(page1[x])\n",
    "\n",
    "while x < len(page1):\n",
    "    x+= 4\n",
    "    if (x <len(page1)):\n",
    "        transaction_list.append(page1[x])\n",
    "    else :\n",
    "        break\n",
    "\n",
    "\n"
   ]
  },
  {
   "cell_type": "markdown",
   "metadata": {},
   "source": [
    "### __Desciption__"
   ]
  },
  {
   "cell_type": "code",
   "execution_count": 19,
   "metadata": {},
   "outputs": [],
   "source": [
    "#Dealing with the initial element \n",
    "description_list = []\n",
    "\n",
    "#Looping through the list \n",
    "x = 2\n",
    "description_list.append(page1[x])\n",
    "\n",
    "while x < len(page1):\n",
    "    x+= 4\n",
    "    if (x <len(page1)):\n",
    "        description_list.append(page1[x])\n",
    "    else :\n",
    "        break"
   ]
  },
  {
   "cell_type": "code",
   "execution_count": null,
   "metadata": {},
   "outputs": [],
   "source": []
  },
  {
   "cell_type": "markdown",
   "metadata": {},
   "source": [
    "### __Balance__"
   ]
  },
  {
   "cell_type": "code",
   "execution_count": 23,
   "metadata": {},
   "outputs": [],
   "source": [
    "#Dealing with the initial element \n",
    "balance_list = []\n",
    "\n",
    "#Looping through the list \n",
    "x = 3\n",
    "balance_list.append(page1[x])\n",
    "\n",
    "while x < len(page1):\n",
    "    x+= 4\n",
    "    if (x <len(page1)):\n",
    "        balance_list.append(page1[x])\n",
    "    else :\n",
    "        break"
   ]
  },
  {
   "cell_type": "markdown",
   "metadata": {},
   "source": [
    "### __Creating Database__"
   ]
  },
  {
   "cell_type": "code",
   "execution_count": 29,
   "metadata": {},
   "outputs": [],
   "source": [
    "statement_dictionary = {\"Posting Date\": posting_list,\n",
    "                        \"Transaction Date\":transaction_list, \n",
    "                        \"Description\": description_list,\n",
    "                        \"Balance\": balance_list\n",
    "}\n",
    "\n",
    "#Create Pandas dataframe\n",
    "statement_df = pd.DataFrame(statement_dictionary)"
   ]
  },
  {
   "cell_type": "code",
   "execution_count": 30,
   "metadata": {},
   "outputs": [
    {
     "data": {
      "text/html": [
       "<div>\n",
       "<style scoped>\n",
       "    .dataframe tbody tr th:only-of-type {\n",
       "        vertical-align: middle;\n",
       "    }\n",
       "\n",
       "    .dataframe tbody tr th {\n",
       "        vertical-align: top;\n",
       "    }\n",
       "\n",
       "    .dataframe thead th {\n",
       "        text-align: right;\n",
       "    }\n",
       "</style>\n",
       "<table border=\"1\" class=\"dataframe\">\n",
       "  <thead>\n",
       "    <tr style=\"text-align: right;\">\n",
       "      <th></th>\n",
       "      <th>Posting Date</th>\n",
       "      <th>Transaction Date</th>\n",
       "      <th>Description</th>\n",
       "      <th>Balance</th>\n",
       "    </tr>\n",
       "  </thead>\n",
       "  <tbody>\n",
       "    <tr>\n",
       "      <th>0</th>\n",
       "      <td>31/01/2021</td>\n",
       "      <td>31/01/2021</td>\n",
       "      <td>Interest Received</td>\n",
       "      <td>3 706.13</td>\n",
       "    </tr>\n",
       "    <tr>\n",
       "      <th>1</th>\n",
       "      <td>31/01/2021</td>\n",
       "      <td>31/01/2021</td>\n",
       "      <td>Monthly Account Admin Fee</td>\n",
       "      <td>3 701.13</td>\n",
       "    </tr>\n",
       "    <tr>\n",
       "      <th>2</th>\n",
       "      <td>01/02/2021</td>\n",
       "      <td>29/01/2021</td>\n",
       "      <td>Cotton On Gauteng (Card 5813)</td>\n",
       "      <td>3 338.13</td>\n",
       "    </tr>\n",
       "    <tr>\n",
       "      <th>3</th>\n",
       "      <td>01/02/2021</td>\n",
       "      <td>29/01/2021</td>\n",
       "      <td>Clicks Mahube (Card 5813)</td>\n",
       "      <td>3 242.50</td>\n",
       "    </tr>\n",
       "    <tr>\n",
       "      <th>4</th>\n",
       "      <td>01/02/2021</td>\n",
       "      <td>01/02/2021</td>\n",
       "      <td>Payment Received: 4walls Salary Payment 221861...</td>\n",
       "      <td>3 867.50</td>\n",
       "    </tr>\n",
       "  </tbody>\n",
       "</table>\n",
       "</div>"
      ],
      "text/plain": [
       "  Posting Date Transaction Date  \\\n",
       "0   31/01/2021       31/01/2021   \n",
       "1   31/01/2021       31/01/2021   \n",
       "2   01/02/2021       29/01/2021   \n",
       "3   01/02/2021       29/01/2021   \n",
       "4   01/02/2021       01/02/2021   \n",
       "\n",
       "                                         Description   Balance  \n",
       "0                                  Interest Received  3 706.13  \n",
       "1                          Monthly Account Admin Fee  3 701.13  \n",
       "2                      Cotton On Gauteng (Card 5813)  3 338.13  \n",
       "3                          Clicks Mahube (Card 5813)  3 242.50  \n",
       "4  Payment Received: 4walls Salary Payment 221861...  3 867.50  "
      ]
     },
     "execution_count": 30,
     "metadata": {},
     "output_type": "execute_result"
    }
   ],
   "source": [
    "statement_df.head()"
   ]
  },
  {
   "cell_type": "code",
   "execution_count": null,
   "metadata": {},
   "outputs": [],
   "source": []
  }
 ],
 "metadata": {
  "interpreter": {
   "hash": "a65086c3c9f076f48bef7927f4f794e49f110bea0d8d4a0dbfc033a1f9d78305"
  },
  "kernelspec": {
   "display_name": "Python 3.9.7 64-bit",
   "language": "python",
   "name": "python3"
  },
  "language_info": {
   "codemirror_mode": {
    "name": "ipython",
    "version": 3
   },
   "file_extension": ".py",
   "mimetype": "text/x-python",
   "name": "python",
   "nbconvert_exporter": "python",
   "pygments_lexer": "ipython3",
   "version": "3.9.7"
  },
  "orig_nbformat": 4
 },
 "nbformat": 4,
 "nbformat_minor": 2
}
