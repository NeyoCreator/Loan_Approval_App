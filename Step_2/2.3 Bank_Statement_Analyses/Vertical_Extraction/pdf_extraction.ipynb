{
 "cells": [
  {
   "cell_type": "code",
   "execution_count": 1,
   "metadata": {},
   "outputs": [
    {
     "name": "stdout",
     "output_type": "stream",
     "text": [
      "Collecting pdfplumber\n",
      "  Downloading pdfplumber-0.5.28.tar.gz (45 kB)\n",
      "Collecting pdfminer.six==20200517\n",
      "  Downloading pdfminer.six-20200517-py3-none-any.whl (5.6 MB)\n",
      "Requirement already satisfied: Pillow>=7.0.0 in c:\\users\\steve iko\\appdata\\local\\programs\\python\\python39\\lib\\site-packages (from pdfplumber) (8.3.2)\n",
      "Collecting Wand\n",
      "  Downloading Wand-0.6.7-py2.py3-none-any.whl (139 kB)\n",
      "Collecting pycryptodome\n",
      "  Using cached pycryptodome-3.11.0-cp35-abi3-win_amd64.whl (1.8 MB)\n",
      "Collecting sortedcontainers\n",
      "  Downloading sortedcontainers-2.4.0-py2.py3-none-any.whl (29 kB)\n",
      "Requirement already satisfied: chardet in c:\\users\\steve iko\\appdata\\local\\programs\\python\\python39\\lib\\site-packages (from pdfminer.six==20200517->pdfplumber) (4.0.0)\n",
      "Building wheels for collected packages: pdfplumber\n",
      "  Building wheel for pdfplumber (setup.py): started\n",
      "  Building wheel for pdfplumber (setup.py): finished with status 'done'\n",
      "  Created wheel for pdfplumber: filename=pdfplumber-0.5.28-py3-none-any.whl size=32240 sha256=6ebc909c6faf6ff2455b876d3b6ce747d98697e1d26d66e385ec276efd87a818\n",
      "  Stored in directory: c:\\users\\steve iko\\appdata\\local\\pip\\cache\\wheels\\e9\\cb\\1b\\c5dbba18cac53515263c5f26443e4617fa432c32cbaa7d8e48\n",
      "Successfully built pdfplumber\n",
      "Installing collected packages: sortedcontainers, pycryptodome, Wand, pdfminer.six, pdfplumber\n",
      "  Attempting uninstall: pdfminer.six\n",
      "    Found existing installation: pdfminer.six 20211012\n",
      "    Uninstalling pdfminer.six-20211012:\n"
     ]
    },
    {
     "name": "stderr",
     "output_type": "stream",
     "text": [
      "ERROR: pip's dependency resolver does not currently take into account all the packages that are installed. This behaviour is the source of the following dependency conflicts.\n",
      "camelot-py 0.10.1 requires pdfminer.six>=20200726, but you have pdfminer-six 20200517 which is incompatible.\n",
      "WARNING: You are using pip version 21.2.4; however, version 21.3.1 is available.\n",
      "You should consider upgrading via the 'C:\\Users\\steve iko\\AppData\\Local\\Programs\\Python\\Python39\\python.exe -m pip install --upgrade pip' command.\n"
     ]
    },
    {
     "name": "stdout",
     "output_type": "stream",
     "text": [
      "      Successfully uninstalled pdfminer.six-20211012\n",
      "Successfully installed Wand-0.6.7 pdfminer.six-20200517 pdfplumber-0.5.28 pycryptodome-3.11.0 sortedcontainers-2.4.0\n"
     ]
    }
   ],
   "source": [
    "!pip install pdfplumber"
   ]
  },
  {
   "cell_type": "code",
   "execution_count": 3,
   "metadata": {},
   "outputs": [],
   "source": [
    "\n",
    "import pdfplumber\n",
    "path = 'page2.pdf'\n",
    "with pdfplumber.open(path) as pdf:\n",
    "    for  page  in pdf.pages:\n",
    "        data = page.extract_text()"
   ]
  },
  {
   "cell_type": "code",
   "execution_count": 7,
   "metadata": {},
   "outputs": [
    {
     "name": "stdout",
     "output_type": "stream",
     "text": [
      "None\n"
     ]
    }
   ],
   "source": [
    "import pdfplumber\n",
    "pdf = pdfplumber.open('page2.pdf')\n",
    "page = pdf.pages[0]\n",
    "text = page.extract_text()\n",
    "print(text)\n",
    "pdf.close()"
   ]
  },
  {
   "cell_type": "code",
   "execution_count": 8,
   "metadata": {},
   "outputs": [
    {
     "name": "stdout",
     "output_type": "stream",
     "text": [
      "Collecting tika"
     ]
    },
    {
     "name": "stderr",
     "output_type": "stream",
     "text": [
      "WARNING: You are using pip version 21.2.4; however, version 21.3.1 is available.\n",
      "You should consider upgrading via the 'C:\\Users\\steve iko\\AppData\\Local\\Programs\\Python\\Python39\\python.exe -m pip install --upgrade pip' command.\n"
     ]
    },
    {
     "name": "stdout",
     "output_type": "stream",
     "text": [
      "\n",
      "  Downloading tika-1.24.tar.gz (28 kB)\n",
      "Requirement already satisfied: setuptools in c:\\users\\steve iko\\appdata\\local\\programs\\python\\python39\\lib\\site-packages (from tika) (57.4.0)\n",
      "Requirement already satisfied: requests in c:\\users\\steve iko\\appdata\\local\\programs\\python\\python39\\lib\\site-packages (from tika) (2.26.0)\n",
      "Requirement already satisfied: charset-normalizer~=2.0.0 in c:\\users\\steve iko\\appdata\\local\\programs\\python\\python39\\lib\\site-packages (from requests->tika) (2.0.7)\n",
      "Requirement already satisfied: urllib3<1.27,>=1.21.1 in c:\\users\\steve iko\\appdata\\local\\programs\\python\\python39\\lib\\site-packages (from requests->tika) (1.26.7)\n",
      "Requirement already satisfied: certifi>=2017.4.17 in c:\\users\\steve iko\\appdata\\local\\programs\\python\\python39\\lib\\site-packages (from requests->tika) (2021.10.8)\n",
      "Requirement already satisfied: idna<4,>=2.5 in c:\\users\\steve iko\\appdata\\local\\programs\\python\\python39\\lib\\site-packages (from requests->tika) (3.3)\n",
      "Building wheels for collected packages: tika\n",
      "  Building wheel for tika (setup.py): started\n",
      "  Building wheel for tika (setup.py): finished with status 'done'\n",
      "  Created wheel for tika: filename=tika-1.24-py3-none-any.whl size=32891 sha256=a3778a8344624bbe8729b2a4afebf982ef93dae2ba1a2168a3413b598f781668\n",
      "  Stored in directory: c:\\users\\steve iko\\appdata\\local\\pip\\cache\\wheels\\ec\\76\\38\\0e4b92d8a3a89cbfff5be03a40c02d15b2072b1b08ebf28d6a\n",
      "Successfully built tika\n",
      "Installing collected packages: tika\n",
      "Successfully installed tika-1.24\n"
     ]
    }
   ],
   "source": [
    "!pip install tika"
   ]
  },
  {
   "cell_type": "code",
   "execution_count": null,
   "metadata": {},
   "outputs": [],
   "source": []
  }
 ],
 "metadata": {
  "interpreter": {
   "hash": "e69c9ee9031db65c58660f7181fa086482bfb481d74b58e7befb84213bfff840"
  },
  "kernelspec": {
   "display_name": "Python 3.8.5 64-bit ('base': conda)",
   "language": "python",
   "name": "python3"
  },
  "language_info": {
   "codemirror_mode": {
    "name": "ipython",
    "version": 3
   },
   "file_extension": ".py",
   "mimetype": "text/x-python",
   "name": "python",
   "nbconvert_exporter": "python",
   "pygments_lexer": "ipython3",
   "version": "3.9.7"
  },
  "orig_nbformat": 4
 },
 "nbformat": 4,
 "nbformat_minor": 2
}
