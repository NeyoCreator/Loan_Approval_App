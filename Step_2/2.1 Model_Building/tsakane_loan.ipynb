{
  "nbformat": 4,
  "nbformat_minor": 0,
  "metadata": {
    "colab": {
      "name": "tsakane_loan.ipynb",
      "provenance": [],
      "collapsed_sections": []
    },
    "kernelspec": {
      "name": "python3",
      "display_name": "Python 3"
    },
    "language_info": {
      "name": "python"
    }
  },
  "cells": [
    {
      "cell_type": "code",
      "metadata": {
        "id": "XN_ofcEy8-VZ"
      },
      "source": [
        "# importin liraries \n",
        "from sklearn import svm \n",
        "import pandas as pd\n",
        "import numpy as np\n",
        "from sklearn.model_selection import train_test_split\n",
        "from sklearn.metrics import accuracy_score, confusion_matrix\n",
        "from imblearn.over_sampling import SMOTE \n",
        "from sklearn.preprocessing import MinMaxScaler\n",
        "import warnings\n",
        "from  collections import Counter \n",
        "warnings.filterwarnings('ignore')\n",
        "import seaborn as sns\n",
        "import matplotlib.pyplot as plt \n",
        "from keras import Sequential\n",
        "from keras.layers import Dense"
      ],
      "execution_count": null,
      "outputs": []
    },
    {
      "cell_type": "markdown",
      "metadata": {
        "id": "tP0pw9UqwUxd"
      },
      "source": [
        "# __1.Preprocessing__"
      ]
    },
    {
      "cell_type": "markdown",
      "metadata": {
        "id": "hA8xUb5pwemE"
      },
      "source": [
        "### __1.1 Missing values__"
      ]
    },
    {
      "cell_type": "code",
      "metadata": {
        "colab": {
          "base_uri": "https://localhost:8080/"
        },
        "id": "M-2pqBgo-M-5",
        "outputId": "459b8634-02bc-4124-d71a-cbdb7fddad25"
      },
      "source": [
        "#dealing with the dataset \n",
        "df = pd.read_csv('train.csv')\n",
        "df = df.dropna() \n",
        "df.isna().any()\n",
        "df = df.drop('Loan_ID',axis = 1 )\n",
        "df[\"LoanAmount\"] =(df['LoanAmount']*1000).astype(int)\n",
        "\n",
        "#the counter allows us to count the values within a field"
      ],
      "execution_count": null,
      "outputs": [
        {
          "output_type": "execute_result",
          "data": {
            "text/plain": [
              "Counter({'N': 148, 'Y': 332})"
            ]
          },
          "metadata": {},
          "execution_count": 4
        }
      ]
    },
    {
      "cell_type": "code",
      "metadata": {
        "colab": {
          "base_uri": "https://localhost:8080/"
        },
        "id": "DKXH7fWaOLdG",
        "outputId": "e8e1b3da-7c87-4a4c-feaf-de32aca79bbe"
      },
      "source": [
        "#We calculated the size percentage of the Yes in the dataset  \n",
        "Counter(df[\"Loan_Status\"])['Y']/df['Loan_Status'].size"
      ],
      "execution_count": null,
      "outputs": [
        {
          "output_type": "execute_result",
          "data": {
            "text/plain": [
              "0.6916666666666667"
            ]
          },
          "metadata": {},
          "execution_count": 5
        }
      ]
    },
    {
      "cell_type": "markdown",
      "metadata": {
        "id": "WYe9vKKsR583"
      },
      "source": [
        "### __1.2 Encode values__"
      ]
    },
    {
      "cell_type": "code",
      "metadata": {
        "id": "2sayGkLOPHfs"
      },
      "source": [
        "#tartget values\n",
        "pre_y = df[\"Loan_Status\"]\n",
        "dm_y = pre_y.map(dict(Y=1, N=0))\n",
        "\n",
        "#features \n",
        "pre_X = df.drop(\"Loan_Status\", axis = 1)\n",
        "dm_X = pd.get_dummies(pre_X)"
      ],
      "execution_count": null,
      "outputs": []
    },
    {
      "cell_type": "markdown",
      "metadata": {
        "id": "nmpPkrEdY3XS"
      },
      "source": [
        "### __1.3 Smote Analysis__"
      ]
    },
    {
      "cell_type": "markdown",
      "metadata": {
        "id": "EPL1zdYBvF6C"
      },
      "source": [
        "using smote will allow us to balance the output of the dataset "
      ]
    },
    {
      "cell_type": "code",
      "metadata": {
        "id": "PiankQQgS1PY",
        "colab": {
          "base_uri": "https://localhost:8080/"
        },
        "outputId": "c534a0bf-4281-4739-eaa1-d1b306df165d"
      },
      "source": [
        "#smote object \n",
        "smote = SMOTE(ratio= 'minority')\n",
        "X1, y = smote.fit_sample(dm_X, dm_y)\n",
        "\n",
        "#showing the results of the balanced data\n",
        "Counter(y)"
      ],
      "execution_count": null,
      "outputs": [
        {
          "output_type": "execute_result",
          "data": {
            "text/plain": [
              "Counter({0: 332, 1: 332})"
            ]
          },
          "metadata": {},
          "execution_count": 15
        }
      ]
    },
    {
      "cell_type": "markdown",
      "metadata": {
        "id": "NYID3RJQwpFZ"
      },
      "source": [
        "### __1.4 Scaling__"
      ]
    },
    {
      "cell_type": "code",
      "metadata": {
        "id": "vrQF_LWXv6YI"
      },
      "source": [
        "#scaler object \n",
        "sc = MinMaxScaler()\n",
        "X = sc.fit_transform(X1)"
      ],
      "execution_count": null,
      "outputs": []
    },
    {
      "cell_type": "markdown",
      "metadata": {
        "id": "5NeO37b2xUjZ"
      },
      "source": [
        "# __2. Building the model__"
      ]
    },
    {
      "cell_type": "code",
      "metadata": {
        "colab": {
          "base_uri": "https://localhost:8080/"
        },
        "id": "5Mka1VfWxTD6",
        "outputId": "ccbbd589-e25c-456b-d8c2-aa8c116cce97"
      },
      "source": [
        "#train test split \n",
        "X_train, X_test ,  y_train, y_test = train_test_split(X, y, test_size = 0.2, random_state = 42, shuffle =True)\n",
        "\n",
        "#model \n",
        "classifiier = Sequential()\n",
        "classifiier.add(Dense(400, activation='relu', kernel_initializer='random_normal', input_dim = X_test.shape[1]))\n",
        "classifiier.add(Dense(800,activation='relu',kernel_initializer='random_normal'))\n",
        "classifiier.add(Dense(10, activation='relu', kernel_initializer='random_normal'))\n",
        "classifiier.add(Dense(1, activation= 'sigmoid', kernel_initializer='random_normal'))\n",
        "classifiier.compile(optimizer='adam', loss='binary_crossentropy',metrics= ['accuracy'])\n",
        "classifiier.fit(X_train,y_train, batch_size=25, epochs= 100,verbose = 0)\n",
        "eval_model = classifiier.evaluate(X_train, y_train)\n",
        "eval_model\n"
      ],
      "execution_count": null,
      "outputs": [
        {
          "output_type": "stream",
          "name": "stdout",
          "text": [
            "17/17 [==============================] - 0s 2ms/step - loss: 0.1732 - accuracy: 0.9303\n"
          ]
        },
        {
          "output_type": "execute_result",
          "data": {
            "text/plain": [
              "[0.17322678864002228, 0.930320143699646]"
            ]
          },
          "metadata": {},
          "execution_count": 44
        }
      ]
    },
    {
      "cell_type": "code",
      "metadata": {
        "id": "brZLrfUvwHAE"
      },
      "source": [
        " #adding a limiter \n",
        " y_pred = classifiier.predict(X_test)\n",
        " y_pred = (y_pred>0.55)\n",
        "\n",
        " #this will allow us output any predicted value that is over 0.5 as 1 and anything less than 0.5 as zero\n",
        " #sometimes we just need to play around with this value "
      ],
      "execution_count": null,
      "outputs": []
    },
    {
      "cell_type": "code",
      "metadata": {
        "colab": {
          "base_uri": "https://localhost:8080/",
          "height": 294
        },
        "id": "J1_KDLIw6PfH",
        "outputId": "564212ae-7351-4fe6-cd34-24200cf152a4"
      },
      "source": [
        "#evaluating the model \n",
        "from sklearn.metrics import confusion_matrix\n",
        "cm = confusion_matrix(y_test,y_pred)\n",
        "ax = plt.subplot()\n",
        "sns.heatmap(cm,annot = True, ax=ax );\n",
        "\n",
        "#labels, title and ticks\n",
        "ax.set_xlabel('Predicted');ax.set_ylabel('Actual');\n",
        "ax.set_title('Confusion Matrix')\n",
        "ax.xaxis.set_ticklabels(['No','Yes']);ax.yaxis.set_ticklabels(['No','Yes']);"
      ],
      "execution_count": null,
      "outputs": [
        {
          "output_type": "display_data",
          "data": {
            "image/png": "[encoded data removed]",
            "text/plain": [
              "<Figure size 432x288 with 2 Axes>"
            ]
          },
          "metadata": {
            "needs_background": "light"
          }
        }
      ]
    },
    {
      "cell_type": "code",
      "metadata": {
        "id": "2XC2YRgh8BI_"
      },
      "source": [
        " "
      ],
      "execution_count": null,
      "outputs": []
    }
  ]
}