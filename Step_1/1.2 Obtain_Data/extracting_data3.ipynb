REPUBLIC 9 SOUTH AFRICA

NATIONA:

‘Sumame:
MAZIBUKO-

Names

NKUKUTHANE JOHANNA
Sex:

F

Nationality:

RSA

Sdeotity Number:

— a oe

Date of birtn:
14 MAY 1894
Country of Birth:
RSA
Status’
CITIZEN

 

 

IDENTITY CARD

     

i ie
HH
2 ”..Signature:

boas

 

